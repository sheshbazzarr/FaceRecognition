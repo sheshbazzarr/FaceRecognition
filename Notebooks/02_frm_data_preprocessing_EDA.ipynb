{
 "cells": [
  {
   "cell_type": "code",
   "execution_count": 55,
   "metadata": {},
   "outputs": [
    {
     "name": "stdout",
     "output_type": "stream",
     "text": [
      "Requirement already satisfied: seaborn in c:\\users\\daniel\\desktop\\steal-like-an\\facerecognition_flask-main\\facerecognition_flask-main\\facerec\\lib\\site-packages (0.13.2)\n",
      "Requirement already satisfied: numpy!=1.24.0,>=1.20 in c:\\users\\daniel\\desktop\\steal-like-an\\facerecognition_flask-main\\facerecognition_flask-main\\facerec\\lib\\site-packages (from seaborn) (2.2.1)\n",
      "Requirement already satisfied: pandas>=1.2 in c:\\users\\daniel\\desktop\\steal-like-an\\facerecognition_flask-main\\facerecognition_flask-main\\facerec\\lib\\site-packages (from seaborn) (2.2.3)\n",
      "Requirement already satisfied: matplotlib!=3.6.1,>=3.4 in c:\\users\\daniel\\desktop\\steal-like-an\\facerecognition_flask-main\\facerecognition_flask-main\\facerec\\lib\\site-packages (from seaborn) (3.10.0)\n",
      "Requirement already satisfied: contourpy>=1.0.1 in c:\\users\\daniel\\desktop\\steal-like-an\\facerecognition_flask-main\\facerecognition_flask-main\\facerec\\lib\\site-packages (from matplotlib!=3.6.1,>=3.4->seaborn) (1.3.1)\n",
      "Requirement already satisfied: cycler>=0.10 in c:\\users\\daniel\\desktop\\steal-like-an\\facerecognition_flask-main\\facerecognition_flask-main\\facerec\\lib\\site-packages (from matplotlib!=3.6.1,>=3.4->seaborn) (0.12.1)\n",
      "Requirement already satisfied: fonttools>=4.22.0 in c:\\users\\daniel\\desktop\\steal-like-an\\facerecognition_flask-main\\facerecognition_flask-main\\facerec\\lib\\site-packages (from matplotlib!=3.6.1,>=3.4->seaborn) (4.55.3)\n",
      "Requirement already satisfied: kiwisolver>=1.3.1 in c:\\users\\daniel\\desktop\\steal-like-an\\facerecognition_flask-main\\facerecognition_flask-main\\facerec\\lib\\site-packages (from matplotlib!=3.6.1,>=3.4->seaborn) (1.4.8)\n",
      "Requirement already satisfied: packaging>=20.0 in c:\\users\\daniel\\desktop\\steal-like-an\\facerecognition_flask-main\\facerecognition_flask-main\\facerec\\lib\\site-packages (from matplotlib!=3.6.1,>=3.4->seaborn) (24.2)\n",
      "Requirement already satisfied: pillow>=8 in c:\\users\\daniel\\desktop\\steal-like-an\\facerecognition_flask-main\\facerecognition_flask-main\\facerec\\lib\\site-packages (from matplotlib!=3.6.1,>=3.4->seaborn) (11.0.0)\n",
      "Requirement already satisfied: pyparsing>=2.3.1 in c:\\users\\daniel\\desktop\\steal-like-an\\facerecognition_flask-main\\facerecognition_flask-main\\facerec\\lib\\site-packages (from matplotlib!=3.6.1,>=3.4->seaborn) (3.2.1)\n",
      "Requirement already satisfied: python-dateutil>=2.7 in c:\\users\\daniel\\desktop\\steal-like-an\\facerecognition_flask-main\\facerecognition_flask-main\\facerec\\lib\\site-packages (from matplotlib!=3.6.1,>=3.4->seaborn) (2.9.0.post0)\n",
      "Requirement already satisfied: pytz>=2020.1 in c:\\users\\daniel\\desktop\\steal-like-an\\facerecognition_flask-main\\facerecognition_flask-main\\facerec\\lib\\site-packages (from pandas>=1.2->seaborn) (2024.2)\n",
      "Requirement already satisfied: tzdata>=2022.7 in c:\\users\\daniel\\desktop\\steal-like-an\\facerecognition_flask-main\\facerecognition_flask-main\\facerec\\lib\\site-packages (from pandas>=1.2->seaborn) (2024.2)\n",
      "Requirement already satisfied: six>=1.5 in c:\\users\\daniel\\desktop\\steal-like-an\\facerecognition_flask-main\\facerecognition_flask-main\\facerec\\lib\\site-packages (from python-dateutil>=2.7->matplotlib!=3.6.1,>=3.4->seaborn) (1.17.0)\n"
     ]
    },
    {
     "name": "stderr",
     "output_type": "stream",
     "text": [
      "\n",
      "[notice] A new release of pip is available: 23.2.1 -> 24.3.1\n",
      "[notice] To update, run: python.exe -m pip install --upgrade pip\n"
     ]
    }
   ],
   "source": [
    "!pip install seaborn"
   ]
  },
  {
   "cell_type": "code",
   "execution_count": 56,
   "metadata": {},
   "outputs": [],
   "source": [
    "# import libraries\n",
    "# 1 Data anlysis\n",
    "import pandas as pd\n",
    "import numpy as np\n",
    "# 2.visualization \n",
    "import matplotlib.pyplot as plt\n",
    "import seaborn as sns\n",
    "# 3.computer vision library\n",
    "import cv2\n",
    "# import glob\n",
    "from glob import glob "
   ]
  },
  {
   "cell_type": "code",
   "execution_count": 57,
   "metadata": {},
   "outputs": [],
   "source": [
    "# extract path of male and female in crop_data folder and put them in list\n",
    "fpath = glob('./crop_data/female/*.jpg')\n",
    "mpath= glob('./crop_data/males/*.jpg')"
   ]
  },
  {
   "cell_type": "code",
   "execution_count": 58,
   "metadata": {},
   "outputs": [
    {
     "data": {
      "text/html": [
       "<div>\n",
       "<style scoped>\n",
       "    .dataframe tbody tr th:only-of-type {\n",
       "        vertical-align: middle;\n",
       "    }\n",
       "\n",
       "    .dataframe tbody tr th {\n",
       "        vertical-align: top;\n",
       "    }\n",
       "\n",
       "    .dataframe thead th {\n",
       "        text-align: right;\n",
       "    }\n",
       "</style>\n",
       "<table border=\"1\" class=\"dataframe\">\n",
       "  <thead>\n",
       "    <tr style=\"text-align: right;\">\n",
       "      <th></th>\n",
       "      <th>filepath</th>\n",
       "      <th>gender</th>\n",
       "    </tr>\n",
       "  </thead>\n",
       "  <tbody>\n",
       "    <tr>\n",
       "      <th>0</th>\n",
       "      <td>./crop_data/female\\female_000000.jpg</td>\n",
       "      <td>female</td>\n",
       "    </tr>\n",
       "    <tr>\n",
       "      <th>1</th>\n",
       "      <td>./crop_data/female\\female_000001.jpg</td>\n",
       "      <td>female</td>\n",
       "    </tr>\n",
       "    <tr>\n",
       "      <th>2</th>\n",
       "      <td>./crop_data/female\\female_000002.jpg</td>\n",
       "      <td>female</td>\n",
       "    </tr>\n",
       "    <tr>\n",
       "      <th>3</th>\n",
       "      <td>./crop_data/female\\female_000003.jpg</td>\n",
       "      <td>female</td>\n",
       "    </tr>\n",
       "    <tr>\n",
       "      <th>4</th>\n",
       "      <td>./crop_data/female\\female_000004.jpg</td>\n",
       "      <td>female</td>\n",
       "    </tr>\n",
       "  </tbody>\n",
       "</table>\n",
       "</div>"
      ],
      "text/plain": [
       "                               filepath  gender\n",
       "0  ./crop_data/female\\female_000000.jpg  female\n",
       "1  ./crop_data/female\\female_000001.jpg  female\n",
       "2  ./crop_data/female\\female_000002.jpg  female\n",
       "3  ./crop_data/female\\female_000003.jpg  female\n",
       "4  ./crop_data/female\\female_000004.jpg  female"
      ]
     },
     "execution_count": 58,
     "metadata": {},
     "output_type": "execute_result"
    }
   ],
   "source": [
    "df_female =pd.DataFrame(fpath,columns=['filepath'])\n",
    "df_female['gender']='female'\n",
    "\n",
    "df_male =pd.DataFrame(mpath,columns=['filepath'])\n",
    "df_male['gender']='male'\n",
    "\n",
    "df =pd.concat((df_female,df_male),axis=0)\n",
    "\n",
    "df.head()"
   ]
  },
  {
   "cell_type": "code",
   "execution_count": 59,
   "metadata": {},
   "outputs": [
    {
     "data": {
      "text/html": [
       "<div>\n",
       "<style scoped>\n",
       "    .dataframe tbody tr th:only-of-type {\n",
       "        vertical-align: middle;\n",
       "    }\n",
       "\n",
       "    .dataframe tbody tr th {\n",
       "        vertical-align: top;\n",
       "    }\n",
       "\n",
       "    .dataframe thead th {\n",
       "        text-align: right;\n",
       "    }\n",
       "</style>\n",
       "<table border=\"1\" class=\"dataframe\">\n",
       "  <thead>\n",
       "    <tr style=\"text-align: right;\">\n",
       "      <th></th>\n",
       "      <th>filepath</th>\n",
       "      <th>gender</th>\n",
       "    </tr>\n",
       "  </thead>\n",
       "  <tbody>\n",
       "    <tr>\n",
       "      <th>2034</th>\n",
       "      <td>./crop_data/males\\male_004745.jpg</td>\n",
       "      <td>male</td>\n",
       "    </tr>\n",
       "    <tr>\n",
       "      <th>2035</th>\n",
       "      <td>./crop_data/males\\male_004753.jpg</td>\n",
       "      <td>male</td>\n",
       "    </tr>\n",
       "    <tr>\n",
       "      <th>2036</th>\n",
       "      <td>./crop_data/males\\male_004755.jpg</td>\n",
       "      <td>male</td>\n",
       "    </tr>\n",
       "    <tr>\n",
       "      <th>2037</th>\n",
       "      <td>./crop_data/males\\male_004756.jpg</td>\n",
       "      <td>male</td>\n",
       "    </tr>\n",
       "    <tr>\n",
       "      <th>2038</th>\n",
       "      <td>./crop_data/males\\male_004757.jpg</td>\n",
       "      <td>male</td>\n",
       "    </tr>\n",
       "  </tbody>\n",
       "</table>\n",
       "</div>"
      ],
      "text/plain": [
       "                               filepath gender\n",
       "2034  ./crop_data/males\\male_004745.jpg   male\n",
       "2035  ./crop_data/males\\male_004753.jpg   male\n",
       "2036  ./crop_data/males\\male_004755.jpg   male\n",
       "2037  ./crop_data/males\\male_004756.jpg   male\n",
       "2038  ./crop_data/males\\male_004757.jpg   male"
      ]
     },
     "execution_count": 59,
     "metadata": {},
     "output_type": "execute_result"
    }
   ],
   "source": [
    "df.tail()"
   ]
  },
  {
   "cell_type": "code",
   "execution_count": 60,
   "metadata": {},
   "outputs": [
    {
     "data": {
      "text/plain": [
       "(4743, 2)"
      ]
     },
     "execution_count": 60,
     "metadata": {},
     "output_type": "execute_result"
    }
   ],
   "source": [
    "df.shape"
   ]
  },
  {
   "cell_type": "code",
   "execution_count": 61,
   "metadata": {},
   "outputs": [],
   "source": [
    "# it will take each image path\n",
    "# then return width of the image\n",
    "def get_size(path):\n",
    "    img = cv2.imread(path)\n",
    "    return img.shape[0]\n"
   ]
  },
  {
   "cell_type": "code",
   "execution_count": 62,
   "metadata": {},
   "outputs": [],
   "source": [
    "# Store dimension of image in this column \n",
    "df['dimension'] =df['filepath'].apply(get_size)"
   ]
  },
  {
   "cell_type": "code",
   "execution_count": 63,
   "metadata": {},
   "outputs": [
    {
     "data": {
      "text/html": [
       "<div>\n",
       "<style scoped>\n",
       "    .dataframe tbody tr th:only-of-type {\n",
       "        vertical-align: middle;\n",
       "    }\n",
       "\n",
       "    .dataframe tbody tr th {\n",
       "        vertical-align: top;\n",
       "    }\n",
       "\n",
       "    .dataframe thead th {\n",
       "        text-align: right;\n",
       "    }\n",
       "</style>\n",
       "<table border=\"1\" class=\"dataframe\">\n",
       "  <thead>\n",
       "    <tr style=\"text-align: right;\">\n",
       "      <th></th>\n",
       "      <th>filepath</th>\n",
       "      <th>gender</th>\n",
       "      <th>dimension</th>\n",
       "    </tr>\n",
       "  </thead>\n",
       "  <tbody>\n",
       "    <tr>\n",
       "      <th>0</th>\n",
       "      <td>./crop_data/female\\female_000000.jpg</td>\n",
       "      <td>female</td>\n",
       "      <td>122</td>\n",
       "    </tr>\n",
       "    <tr>\n",
       "      <th>1</th>\n",
       "      <td>./crop_data/female\\female_000001.jpg</td>\n",
       "      <td>female</td>\n",
       "      <td>182</td>\n",
       "    </tr>\n",
       "    <tr>\n",
       "      <th>2</th>\n",
       "      <td>./crop_data/female\\female_000002.jpg</td>\n",
       "      <td>female</td>\n",
       "      <td>273</td>\n",
       "    </tr>\n",
       "    <tr>\n",
       "      <th>3</th>\n",
       "      <td>./crop_data/female\\female_000003.jpg</td>\n",
       "      <td>female</td>\n",
       "      <td>81</td>\n",
       "    </tr>\n",
       "    <tr>\n",
       "      <th>4</th>\n",
       "      <td>./crop_data/female\\female_000004.jpg</td>\n",
       "      <td>female</td>\n",
       "      <td>122</td>\n",
       "    </tr>\n",
       "  </tbody>\n",
       "</table>\n",
       "</div>"
      ],
      "text/plain": [
       "                               filepath  gender  dimension\n",
       "0  ./crop_data/female\\female_000000.jpg  female        122\n",
       "1  ./crop_data/female\\female_000001.jpg  female        182\n",
       "2  ./crop_data/female\\female_000002.jpg  female        273\n",
       "3  ./crop_data/female\\female_000003.jpg  female         81\n",
       "4  ./crop_data/female\\female_000004.jpg  female        122"
      ]
     },
     "execution_count": 63,
     "metadata": {},
     "output_type": "execute_result"
    }
   ],
   "source": [
    "df.head()"
   ]
  },
  {
   "cell_type": "code",
   "execution_count": 64,
   "metadata": {},
   "outputs": [
    {
     "data": {
      "text/plain": [
       "gender\n",
       "female    2704\n",
       "male      2039\n",
       "Name: count, dtype: int64"
      ]
     },
     "execution_count": 64,
     "metadata": {},
     "output_type": "execute_result"
    }
   ],
   "source": [
    "\n",
    "dist_gender = df['gender'].value_counts()\n",
    "dist_gender"
   ]
  },
  {
   "cell_type": "code",
   "execution_count": 65,
   "metadata": {},
   "outputs": [
    {
     "data": {
      "text/plain": [
       "<Axes: ylabel='count'>"
      ]
     },
     "execution_count": 65,
     "metadata": {},
     "output_type": "execute_result"
    },
    {
     "data": {
      "image/png": "[encoded data removed]",
      "text/plain": [
       "<Figure size 640x480 with 2 Axes>"
      ]
     },
     "metadata": {},
     "output_type": "display_data"
    }
   ],
   "source": [
    "\n",
    "fig,ax =plt.subplots(nrows=1,ncols=2)\n",
    "dist_gender.plot(kind='bar',ax=ax[0])\n",
    "dist_gender.plot(kind='pie',ax=ax[1],autopct='%1.1f%%')"
   ]
  },
  {
   "cell_type": "code",
   "execution_count": 66,
   "metadata": {},
   "outputs": [
    {
     "data": {
      "image/png": "[encoded data removed]",
      "text/plain": [
       "<Figure size 1200x600 with 2 Axes>"
      ]
     },
     "metadata": {},
     "output_type": "display_data"
    }
   ],
   "source": [
    "# what distribution of size of all image\n",
    "# Histogram\n",
    "# Box plot\n",
    "# split by \"Gender\"\n",
    "plt.figure(figsize=(12,6))\n",
    "plt.subplot(2,1,1)\n",
    "sns.histplot(df['dimension'])\n",
    "plt.subplot(2,1,2)\n",
    "sns.boxplot(df['dimension'])\n",
    "plt.show()"
   ]
  },
  {
   "cell_type": "code",
   "execution_count": 67,
   "metadata": {},
   "outputs": [
    {
     "data": {
      "text/plain": [
       "<seaborn.axisgrid.FacetGrid at 0x29030235e20>"
      ]
     },
     "execution_count": 67,
     "metadata": {},
     "output_type": "execute_result"
    },
    {
     "data": {
      "image/png": "[encoded data removed]",
      "text/plain": [
       "<Figure size 511.111x500 with 1 Axes>"
      ]
     },
     "metadata": {},
     "output_type": "display_data"
    }
   ],
   "source": [
    "sns.catplot(data=df,x='gender',y='dimension',kind='box')"
   ]
  },
  {
   "cell_type": "code",
   "execution_count": 68,
   "metadata": {},
   "outputs": [],
   "source": [
    "# we have almost equal distributio of gender (numbers)\n",
    "# most of the images are having dimenstion more than 60\n",
    "# femal most of the femal images are HD compare to male images\n",
    "\n",
    "# consider the images width dimenisons more than 60 and resie all the images into 100 x100\n"
   ]
  },
  {
   "cell_type": "code",
   "execution_count": 69,
   "metadata": {},
   "outputs": [],
   "source": [
    "df_filter = df.query('dimension>60')\n",
    " "
   ]
  },
  {
   "cell_type": "code",
   "execution_count": 70,
   "metadata": {},
   "outputs": [
    {
     "data": {
      "text/plain": [
       "(4308, 3)"
      ]
     },
     "execution_count": 70,
     "metadata": {},
     "output_type": "execute_result"
    }
   ],
   "source": [
    "df_filter.shape"
   ]
  },
  {
   "cell_type": "code",
   "execution_count": 71,
   "metadata": {},
   "outputs": [],
   "source": [
    "def structuring(path):\n",
    "    try:\n",
    "        # step -1 : read image\n",
    "\n",
    "        img = cv2.imread(path)\n",
    "        # step -2 : resize image\n",
    "        gray = cv2.cvtColor(img,cv2.COLOR_BGR2GRAY)\n",
    "        # step -3 : resize image into 100x100 array\n",
    "        size= gray.shape[0]\n",
    "        if size>=100:\n",
    "            gray_resize =cv2.resize(gray,(100,100),cv2.INTER_AREA)\n",
    "        # cv2.Inter_cubic (enlarge)\n",
    "        else:\n",
    "            gray_resize =cv2.resize(gray,(100,100),cv2.INTER_CUBIC)\n",
    "\n",
    "        # step -4 : flatten image (1x10000)\n",
    "        flatten_img =gray_resize.flatten()\n",
    "        return flatten_img\n",
    "    except:\n",
    "            return None "
   ]
  },
  {
   "cell_type": "code",
   "execution_count": 72,
   "metadata": {},
   "outputs": [
    {
     "name": "stderr",
     "output_type": "stream",
     "text": [
      "C:\\Users\\Daniel\\AppData\\Local\\Temp\\ipykernel_10576\\3455525932.py:2: SettingWithCopyWarning: \n",
      "A value is trying to be set on a copy of a slice from a DataFrame.\n",
      "Try using .loc[row_indexer,col_indexer] = value instead\n",
      "\n",
      "See the caveats in the documentation: https://pandas.pydata.org/pandas-docs/stable/user_guide/indexing.html#returning-a-view-versus-a-copy\n",
      "  df_filter['data']=df_filter['filepath'].apply(structuring)\n"
     ]
    },
    {
     "data": {
      "text/html": [
       "<div>\n",
       "<style scoped>\n",
       "    .dataframe tbody tr th:only-of-type {\n",
       "        vertical-align: middle;\n",
       "    }\n",
       "\n",
       "    .dataframe tbody tr th {\n",
       "        vertical-align: top;\n",
       "    }\n",
       "\n",
       "    .dataframe thead th {\n",
       "        text-align: right;\n",
       "    }\n",
       "</style>\n",
       "<table border=\"1\" class=\"dataframe\">\n",
       "  <thead>\n",
       "    <tr style=\"text-align: right;\">\n",
       "      <th></th>\n",
       "      <th>filepath</th>\n",
       "      <th>gender</th>\n",
       "      <th>dimension</th>\n",
       "      <th>data</th>\n",
       "    </tr>\n",
       "  </thead>\n",
       "  <tbody>\n",
       "    <tr>\n",
       "      <th>0</th>\n",
       "      <td>./crop_data/female\\female_000000.jpg</td>\n",
       "      <td>female</td>\n",
       "      <td>122</td>\n",
       "      <td>[54, 60, 54, 58, 59, 54, 55, 60, 55, 45, 46, 5...</td>\n",
       "    </tr>\n",
       "    <tr>\n",
       "      <th>1</th>\n",
       "      <td>./crop_data/female\\female_000001.jpg</td>\n",
       "      <td>female</td>\n",
       "      <td>182</td>\n",
       "      <td>[32, 23, 31, 27, 28, 30, 28, 33, 36, 30, 46, 8...</td>\n",
       "    </tr>\n",
       "    <tr>\n",
       "      <th>2</th>\n",
       "      <td>./crop_data/female\\female_000002.jpg</td>\n",
       "      <td>female</td>\n",
       "      <td>273</td>\n",
       "      <td>[17, 17, 19, 22, 19, 20, 25, 22, 26, 29, 39, 5...</td>\n",
       "    </tr>\n",
       "    <tr>\n",
       "      <th>3</th>\n",
       "      <td>./crop_data/female\\female_000003.jpg</td>\n",
       "      <td>female</td>\n",
       "      <td>81</td>\n",
       "      <td>[23, 28, 32, 30, 24, 21, 22, 25, 28, 28, 23, 2...</td>\n",
       "    </tr>\n",
       "    <tr>\n",
       "      <th>4</th>\n",
       "      <td>./crop_data/female\\female_000004.jpg</td>\n",
       "      <td>female</td>\n",
       "      <td>122</td>\n",
       "      <td>[12, 11, 13, 14, 16, 23, 20, 29, 40, 42, 38, 3...</td>\n",
       "    </tr>\n",
       "  </tbody>\n",
       "</table>\n",
       "</div>"
      ],
      "text/plain": [
       "                               filepath  gender  dimension  \\\n",
       "0  ./crop_data/female\\female_000000.jpg  female        122   \n",
       "1  ./crop_data/female\\female_000001.jpg  female        182   \n",
       "2  ./crop_data/female\\female_000002.jpg  female        273   \n",
       "3  ./crop_data/female\\female_000003.jpg  female         81   \n",
       "4  ./crop_data/female\\female_000004.jpg  female        122   \n",
       "\n",
       "                                                data  \n",
       "0  [54, 60, 54, 58, 59, 54, 55, 60, 55, 45, 46, 5...  \n",
       "1  [32, 23, 31, 27, 28, 30, 28, 33, 36, 30, 46, 8...  \n",
       "2  [17, 17, 19, 22, 19, 20, 25, 22, 26, 29, 39, 5...  \n",
       "3  [23, 28, 32, 30, 24, 21, 22, 25, 28, 28, 23, 2...  \n",
       "4  [12, 11, 13, 14, 16, 23, 20, 29, 40, 42, 38, 3...  "
      ]
     },
     "execution_count": 72,
     "metadata": {},
     "output_type": "execute_result"
    }
   ],
   "source": [
    "# Conver all images into 100x100 \n",
    "df_filter['data']=df_filter['filepath'].apply(structuring) \n",
    "df_filter.head()\n"
   ]
  },
  {
   "cell_type": "code",
   "execution_count": 73,
   "metadata": {},
   "outputs": [],
   "source": [
    "data =df_filter['data'].apply(pd.Series)"
   ]
  },
  {
   "cell_type": "code",
   "execution_count": 74,
   "metadata": {},
   "outputs": [
    {
     "data": {
      "text/html": [
       "<div>\n",
       "<style scoped>\n",
       "    .dataframe tbody tr th:only-of-type {\n",
       "        vertical-align: middle;\n",
       "    }\n",
       "\n",
       "    .dataframe tbody tr th {\n",
       "        vertical-align: top;\n",
       "    }\n",
       "\n",
       "    .dataframe thead th {\n",
       "        text-align: right;\n",
       "    }\n",
       "</style>\n",
       "<table border=\"1\" class=\"dataframe\">\n",
       "  <thead>\n",
       "    <tr style=\"text-align: right;\">\n",
       "      <th></th>\n",
       "      <th>pixels_0</th>\n",
       "      <th>pixels_1</th>\n",
       "      <th>pixels_2</th>\n",
       "      <th>pixels_3</th>\n",
       "      <th>pixels_4</th>\n",
       "      <th>pixels_5</th>\n",
       "      <th>pixels_6</th>\n",
       "      <th>pixels_7</th>\n",
       "      <th>pixels_8</th>\n",
       "      <th>pixels_9</th>\n",
       "      <th>...</th>\n",
       "      <th>pixels_9990</th>\n",
       "      <th>pixels_9991</th>\n",
       "      <th>pixels_9992</th>\n",
       "      <th>pixels_9993</th>\n",
       "      <th>pixels_9994</th>\n",
       "      <th>pixels_9995</th>\n",
       "      <th>pixels_9996</th>\n",
       "      <th>pixels_9997</th>\n",
       "      <th>pixels_9998</th>\n",
       "      <th>pixels_9999</th>\n",
       "    </tr>\n",
       "  </thead>\n",
       "  <tbody>\n",
       "    <tr>\n",
       "      <th>0</th>\n",
       "      <td>54</td>\n",
       "      <td>60</td>\n",
       "      <td>54</td>\n",
       "      <td>58</td>\n",
       "      <td>59</td>\n",
       "      <td>54</td>\n",
       "      <td>55</td>\n",
       "      <td>60</td>\n",
       "      <td>55</td>\n",
       "      <td>45</td>\n",
       "      <td>...</td>\n",
       "      <td>30</td>\n",
       "      <td>28</td>\n",
       "      <td>33</td>\n",
       "      <td>40</td>\n",
       "      <td>49</td>\n",
       "      <td>58</td>\n",
       "      <td>52</td>\n",
       "      <td>43</td>\n",
       "      <td>40</td>\n",
       "      <td>35</td>\n",
       "    </tr>\n",
       "    <tr>\n",
       "      <th>1</th>\n",
       "      <td>32</td>\n",
       "      <td>23</td>\n",
       "      <td>31</td>\n",
       "      <td>27</td>\n",
       "      <td>28</td>\n",
       "      <td>30</td>\n",
       "      <td>28</td>\n",
       "      <td>33</td>\n",
       "      <td>36</td>\n",
       "      <td>30</td>\n",
       "      <td>...</td>\n",
       "      <td>58</td>\n",
       "      <td>47</td>\n",
       "      <td>27</td>\n",
       "      <td>34</td>\n",
       "      <td>22</td>\n",
       "      <td>27</td>\n",
       "      <td>23</td>\n",
       "      <td>37</td>\n",
       "      <td>63</td>\n",
       "      <td>18</td>\n",
       "    </tr>\n",
       "    <tr>\n",
       "      <th>2</th>\n",
       "      <td>17</td>\n",
       "      <td>17</td>\n",
       "      <td>19</td>\n",
       "      <td>22</td>\n",
       "      <td>19</td>\n",
       "      <td>20</td>\n",
       "      <td>25</td>\n",
       "      <td>22</td>\n",
       "      <td>26</td>\n",
       "      <td>29</td>\n",
       "      <td>...</td>\n",
       "      <td>195</td>\n",
       "      <td>193</td>\n",
       "      <td>194</td>\n",
       "      <td>195</td>\n",
       "      <td>195</td>\n",
       "      <td>195</td>\n",
       "      <td>193</td>\n",
       "      <td>194</td>\n",
       "      <td>194</td>\n",
       "      <td>195</td>\n",
       "    </tr>\n",
       "    <tr>\n",
       "      <th>3</th>\n",
       "      <td>23</td>\n",
       "      <td>28</td>\n",
       "      <td>32</td>\n",
       "      <td>30</td>\n",
       "      <td>24</td>\n",
       "      <td>21</td>\n",
       "      <td>22</td>\n",
       "      <td>25</td>\n",
       "      <td>28</td>\n",
       "      <td>28</td>\n",
       "      <td>...</td>\n",
       "      <td>5</td>\n",
       "      <td>14</td>\n",
       "      <td>18</td>\n",
       "      <td>13</td>\n",
       "      <td>1</td>\n",
       "      <td>3</td>\n",
       "      <td>20</td>\n",
       "      <td>31</td>\n",
       "      <td>32</td>\n",
       "      <td>23</td>\n",
       "    </tr>\n",
       "    <tr>\n",
       "      <th>4</th>\n",
       "      <td>12</td>\n",
       "      <td>11</td>\n",
       "      <td>13</td>\n",
       "      <td>14</td>\n",
       "      <td>16</td>\n",
       "      <td>23</td>\n",
       "      <td>20</td>\n",
       "      <td>29</td>\n",
       "      <td>40</td>\n",
       "      <td>42</td>\n",
       "      <td>...</td>\n",
       "      <td>171</td>\n",
       "      <td>188</td>\n",
       "      <td>202</td>\n",
       "      <td>209</td>\n",
       "      <td>219</td>\n",
       "      <td>213</td>\n",
       "      <td>221</td>\n",
       "      <td>214</td>\n",
       "      <td>163</td>\n",
       "      <td>136</td>\n",
       "    </tr>\n",
       "  </tbody>\n",
       "</table>\n",
       "<p>5 rows × 10000 columns</p>\n",
       "</div>"
      ],
      "text/plain": [
       "   pixels_0  pixels_1  pixels_2  pixels_3  pixels_4  pixels_5  pixels_6  \\\n",
       "0        54        60        54        58        59        54        55   \n",
       "1        32        23        31        27        28        30        28   \n",
       "2        17        17        19        22        19        20        25   \n",
       "3        23        28        32        30        24        21        22   \n",
       "4        12        11        13        14        16        23        20   \n",
       "\n",
       "   pixels_7  pixels_8  pixels_9  ...  pixels_9990  pixels_9991  pixels_9992  \\\n",
       "0        60        55        45  ...           30           28           33   \n",
       "1        33        36        30  ...           58           47           27   \n",
       "2        22        26        29  ...          195          193          194   \n",
       "3        25        28        28  ...            5           14           18   \n",
       "4        29        40        42  ...          171          188          202   \n",
       "\n",
       "   pixels_9993  pixels_9994  pixels_9995  pixels_9996  pixels_9997  \\\n",
       "0           40           49           58           52           43   \n",
       "1           34           22           27           23           37   \n",
       "2          195          195          195          193          194   \n",
       "3           13            1            3           20           31   \n",
       "4          209          219          213          221          214   \n",
       "\n",
       "   pixels_9998  pixels_9999  \n",
       "0           40           35  \n",
       "1           63           18  \n",
       "2          194          195  \n",
       "3           32           23  \n",
       "4          163          136  \n",
       "\n",
       "[5 rows x 10000 columns]"
      ]
     },
     "execution_count": 74,
     "metadata": {},
     "output_type": "execute_result"
    }
   ],
   "source": [
    "data.columns = [f\"pixels_{i}\" for i in data.columns]\n",
    "data.head()"
   ]
  },
  {
   "cell_type": "code",
   "execution_count": 75,
   "metadata": {},
   "outputs": [
    {
     "data": {
      "text/html": [
       "<div>\n",
       "<style scoped>\n",
       "    .dataframe tbody tr th:only-of-type {\n",
       "        vertical-align: middle;\n",
       "    }\n",
       "\n",
       "    .dataframe tbody tr th {\n",
       "        vertical-align: top;\n",
       "    }\n",
       "\n",
       "    .dataframe thead th {\n",
       "        text-align: right;\n",
       "    }\n",
       "</style>\n",
       "<table border=\"1\" class=\"dataframe\">\n",
       "  <thead>\n",
       "    <tr style=\"text-align: right;\">\n",
       "      <th></th>\n",
       "      <th>pixels_0</th>\n",
       "      <th>pixels_1</th>\n",
       "      <th>pixels_2</th>\n",
       "      <th>pixels_3</th>\n",
       "      <th>pixels_4</th>\n",
       "      <th>pixels_5</th>\n",
       "      <th>pixels_6</th>\n",
       "      <th>pixels_7</th>\n",
       "      <th>pixels_8</th>\n",
       "      <th>pixels_9</th>\n",
       "      <th>...</th>\n",
       "      <th>pixels_9990</th>\n",
       "      <th>pixels_9991</th>\n",
       "      <th>pixels_9992</th>\n",
       "      <th>pixels_9993</th>\n",
       "      <th>pixels_9994</th>\n",
       "      <th>pixels_9995</th>\n",
       "      <th>pixels_9996</th>\n",
       "      <th>pixels_9997</th>\n",
       "      <th>pixels_9998</th>\n",
       "      <th>pixels_9999</th>\n",
       "    </tr>\n",
       "  </thead>\n",
       "  <tbody>\n",
       "    <tr>\n",
       "      <th>0</th>\n",
       "      <td>0.211765</td>\n",
       "      <td>0.235294</td>\n",
       "      <td>0.211765</td>\n",
       "      <td>0.227451</td>\n",
       "      <td>0.231373</td>\n",
       "      <td>0.211765</td>\n",
       "      <td>0.215686</td>\n",
       "      <td>0.235294</td>\n",
       "      <td>0.215686</td>\n",
       "      <td>0.176471</td>\n",
       "      <td>...</td>\n",
       "      <td>0.117647</td>\n",
       "      <td>0.109804</td>\n",
       "      <td>0.129412</td>\n",
       "      <td>0.156863</td>\n",
       "      <td>0.192157</td>\n",
       "      <td>0.227451</td>\n",
       "      <td>0.203922</td>\n",
       "      <td>0.168627</td>\n",
       "      <td>0.156863</td>\n",
       "      <td>0.137255</td>\n",
       "    </tr>\n",
       "    <tr>\n",
       "      <th>1</th>\n",
       "      <td>0.125490</td>\n",
       "      <td>0.090196</td>\n",
       "      <td>0.121569</td>\n",
       "      <td>0.105882</td>\n",
       "      <td>0.109804</td>\n",
       "      <td>0.117647</td>\n",
       "      <td>0.109804</td>\n",
       "      <td>0.129412</td>\n",
       "      <td>0.141176</td>\n",
       "      <td>0.117647</td>\n",
       "      <td>...</td>\n",
       "      <td>0.227451</td>\n",
       "      <td>0.184314</td>\n",
       "      <td>0.105882</td>\n",
       "      <td>0.133333</td>\n",
       "      <td>0.086275</td>\n",
       "      <td>0.105882</td>\n",
       "      <td>0.090196</td>\n",
       "      <td>0.145098</td>\n",
       "      <td>0.247059</td>\n",
       "      <td>0.070588</td>\n",
       "    </tr>\n",
       "    <tr>\n",
       "      <th>2</th>\n",
       "      <td>0.066667</td>\n",
       "      <td>0.066667</td>\n",
       "      <td>0.074510</td>\n",
       "      <td>0.086275</td>\n",
       "      <td>0.074510</td>\n",
       "      <td>0.078431</td>\n",
       "      <td>0.098039</td>\n",
       "      <td>0.086275</td>\n",
       "      <td>0.101961</td>\n",
       "      <td>0.113725</td>\n",
       "      <td>...</td>\n",
       "      <td>0.764706</td>\n",
       "      <td>0.756863</td>\n",
       "      <td>0.760784</td>\n",
       "      <td>0.764706</td>\n",
       "      <td>0.764706</td>\n",
       "      <td>0.764706</td>\n",
       "      <td>0.756863</td>\n",
       "      <td>0.760784</td>\n",
       "      <td>0.760784</td>\n",
       "      <td>0.764706</td>\n",
       "    </tr>\n",
       "    <tr>\n",
       "      <th>3</th>\n",
       "      <td>0.090196</td>\n",
       "      <td>0.109804</td>\n",
       "      <td>0.125490</td>\n",
       "      <td>0.117647</td>\n",
       "      <td>0.094118</td>\n",
       "      <td>0.082353</td>\n",
       "      <td>0.086275</td>\n",
       "      <td>0.098039</td>\n",
       "      <td>0.109804</td>\n",
       "      <td>0.109804</td>\n",
       "      <td>...</td>\n",
       "      <td>0.019608</td>\n",
       "      <td>0.054902</td>\n",
       "      <td>0.070588</td>\n",
       "      <td>0.050980</td>\n",
       "      <td>0.003922</td>\n",
       "      <td>0.011765</td>\n",
       "      <td>0.078431</td>\n",
       "      <td>0.121569</td>\n",
       "      <td>0.125490</td>\n",
       "      <td>0.090196</td>\n",
       "    </tr>\n",
       "    <tr>\n",
       "      <th>4</th>\n",
       "      <td>0.047059</td>\n",
       "      <td>0.043137</td>\n",
       "      <td>0.050980</td>\n",
       "      <td>0.054902</td>\n",
       "      <td>0.062745</td>\n",
       "      <td>0.090196</td>\n",
       "      <td>0.078431</td>\n",
       "      <td>0.113725</td>\n",
       "      <td>0.156863</td>\n",
       "      <td>0.164706</td>\n",
       "      <td>...</td>\n",
       "      <td>0.670588</td>\n",
       "      <td>0.737255</td>\n",
       "      <td>0.792157</td>\n",
       "      <td>0.819608</td>\n",
       "      <td>0.858824</td>\n",
       "      <td>0.835294</td>\n",
       "      <td>0.866667</td>\n",
       "      <td>0.839216</td>\n",
       "      <td>0.639216</td>\n",
       "      <td>0.533333</td>\n",
       "    </tr>\n",
       "  </tbody>\n",
       "</table>\n",
       "<p>5 rows × 10000 columns</p>\n",
       "</div>"
      ],
      "text/plain": [
       "   pixels_0  pixels_1  pixels_2  pixels_3  pixels_4  pixels_5  pixels_6  \\\n",
       "0  0.211765  0.235294  0.211765  0.227451  0.231373  0.211765  0.215686   \n",
       "1  0.125490  0.090196  0.121569  0.105882  0.109804  0.117647  0.109804   \n",
       "2  0.066667  0.066667  0.074510  0.086275  0.074510  0.078431  0.098039   \n",
       "3  0.090196  0.109804  0.125490  0.117647  0.094118  0.082353  0.086275   \n",
       "4  0.047059  0.043137  0.050980  0.054902  0.062745  0.090196  0.078431   \n",
       "\n",
       "   pixels_7  pixels_8  pixels_9  ...  pixels_9990  pixels_9991  pixels_9992  \\\n",
       "0  0.235294  0.215686  0.176471  ...     0.117647     0.109804     0.129412   \n",
       "1  0.129412  0.141176  0.117647  ...     0.227451     0.184314     0.105882   \n",
       "2  0.086275  0.101961  0.113725  ...     0.764706     0.756863     0.760784   \n",
       "3  0.098039  0.109804  0.109804  ...     0.019608     0.054902     0.070588   \n",
       "4  0.113725  0.156863  0.164706  ...     0.670588     0.737255     0.792157   \n",
       "\n",
       "   pixels_9993  pixels_9994  pixels_9995  pixels_9996  pixels_9997  \\\n",
       "0     0.156863     0.192157     0.227451     0.203922     0.168627   \n",
       "1     0.133333     0.086275     0.105882     0.090196     0.145098   \n",
       "2     0.764706     0.764706     0.764706     0.756863     0.760784   \n",
       "3     0.050980     0.003922     0.011765     0.078431     0.121569   \n",
       "4     0.819608     0.858824     0.835294     0.866667     0.839216   \n",
       "\n",
       "   pixels_9998  pixels_9999  \n",
       "0     0.156863     0.137255  \n",
       "1     0.247059     0.070588  \n",
       "2     0.760784     0.764706  \n",
       "3     0.125490     0.090196  \n",
       "4     0.639216     0.533333  \n",
       "\n",
       "[5 rows x 10000 columns]"
      ]
     },
     "execution_count": 75,
     "metadata": {},
     "output_type": "execute_result"
    }
   ],
   "source": [
    "# data normalizations\n",
    "data =data/255\n",
    "data.head()"
   ]
  },
  {
   "cell_type": "code",
   "execution_count": 76,
   "metadata": {},
   "outputs": [
    {
     "data": {
      "text/html": [
       "<div>\n",
       "<style scoped>\n",
       "    .dataframe tbody tr th:only-of-type {\n",
       "        vertical-align: middle;\n",
       "    }\n",
       "\n",
       "    .dataframe tbody tr th {\n",
       "        vertical-align: top;\n",
       "    }\n",
       "\n",
       "    .dataframe thead th {\n",
       "        text-align: right;\n",
       "    }\n",
       "</style>\n",
       "<table border=\"1\" class=\"dataframe\">\n",
       "  <thead>\n",
       "    <tr style=\"text-align: right;\">\n",
       "      <th></th>\n",
       "      <th>pixels_0</th>\n",
       "      <th>pixels_1</th>\n",
       "      <th>pixels_2</th>\n",
       "      <th>pixels_3</th>\n",
       "      <th>pixels_4</th>\n",
       "      <th>pixels_5</th>\n",
       "      <th>pixels_6</th>\n",
       "      <th>pixels_7</th>\n",
       "      <th>pixels_8</th>\n",
       "      <th>pixels_9</th>\n",
       "      <th>...</th>\n",
       "      <th>pixels_9991</th>\n",
       "      <th>pixels_9992</th>\n",
       "      <th>pixels_9993</th>\n",
       "      <th>pixels_9994</th>\n",
       "      <th>pixels_9995</th>\n",
       "      <th>pixels_9996</th>\n",
       "      <th>pixels_9997</th>\n",
       "      <th>pixels_9998</th>\n",
       "      <th>pixels_9999</th>\n",
       "      <th>gender</th>\n",
       "    </tr>\n",
       "  </thead>\n",
       "  <tbody>\n",
       "    <tr>\n",
       "      <th>0</th>\n",
       "      <td>0.211765</td>\n",
       "      <td>0.235294</td>\n",
       "      <td>0.211765</td>\n",
       "      <td>0.227451</td>\n",
       "      <td>0.231373</td>\n",
       "      <td>0.211765</td>\n",
       "      <td>0.215686</td>\n",
       "      <td>0.235294</td>\n",
       "      <td>0.215686</td>\n",
       "      <td>0.176471</td>\n",
       "      <td>...</td>\n",
       "      <td>0.109804</td>\n",
       "      <td>0.129412</td>\n",
       "      <td>0.156863</td>\n",
       "      <td>0.192157</td>\n",
       "      <td>0.227451</td>\n",
       "      <td>0.203922</td>\n",
       "      <td>0.168627</td>\n",
       "      <td>0.156863</td>\n",
       "      <td>0.137255</td>\n",
       "      <td>female</td>\n",
       "    </tr>\n",
       "    <tr>\n",
       "      <th>1</th>\n",
       "      <td>0.125490</td>\n",
       "      <td>0.090196</td>\n",
       "      <td>0.121569</td>\n",
       "      <td>0.105882</td>\n",
       "      <td>0.109804</td>\n",
       "      <td>0.117647</td>\n",
       "      <td>0.109804</td>\n",
       "      <td>0.129412</td>\n",
       "      <td>0.141176</td>\n",
       "      <td>0.117647</td>\n",
       "      <td>...</td>\n",
       "      <td>0.184314</td>\n",
       "      <td>0.105882</td>\n",
       "      <td>0.133333</td>\n",
       "      <td>0.086275</td>\n",
       "      <td>0.105882</td>\n",
       "      <td>0.090196</td>\n",
       "      <td>0.145098</td>\n",
       "      <td>0.247059</td>\n",
       "      <td>0.070588</td>\n",
       "      <td>female</td>\n",
       "    </tr>\n",
       "    <tr>\n",
       "      <th>2</th>\n",
       "      <td>0.066667</td>\n",
       "      <td>0.066667</td>\n",
       "      <td>0.074510</td>\n",
       "      <td>0.086275</td>\n",
       "      <td>0.074510</td>\n",
       "      <td>0.078431</td>\n",
       "      <td>0.098039</td>\n",
       "      <td>0.086275</td>\n",
       "      <td>0.101961</td>\n",
       "      <td>0.113725</td>\n",
       "      <td>...</td>\n",
       "      <td>0.756863</td>\n",
       "      <td>0.760784</td>\n",
       "      <td>0.764706</td>\n",
       "      <td>0.764706</td>\n",
       "      <td>0.764706</td>\n",
       "      <td>0.756863</td>\n",
       "      <td>0.760784</td>\n",
       "      <td>0.760784</td>\n",
       "      <td>0.764706</td>\n",
       "      <td>female</td>\n",
       "    </tr>\n",
       "    <tr>\n",
       "      <th>3</th>\n",
       "      <td>0.090196</td>\n",
       "      <td>0.109804</td>\n",
       "      <td>0.125490</td>\n",
       "      <td>0.117647</td>\n",
       "      <td>0.094118</td>\n",
       "      <td>0.082353</td>\n",
       "      <td>0.086275</td>\n",
       "      <td>0.098039</td>\n",
       "      <td>0.109804</td>\n",
       "      <td>0.109804</td>\n",
       "      <td>...</td>\n",
       "      <td>0.054902</td>\n",
       "      <td>0.070588</td>\n",
       "      <td>0.050980</td>\n",
       "      <td>0.003922</td>\n",
       "      <td>0.011765</td>\n",
       "      <td>0.078431</td>\n",
       "      <td>0.121569</td>\n",
       "      <td>0.125490</td>\n",
       "      <td>0.090196</td>\n",
       "      <td>female</td>\n",
       "    </tr>\n",
       "    <tr>\n",
       "      <th>4</th>\n",
       "      <td>0.047059</td>\n",
       "      <td>0.043137</td>\n",
       "      <td>0.050980</td>\n",
       "      <td>0.054902</td>\n",
       "      <td>0.062745</td>\n",
       "      <td>0.090196</td>\n",
       "      <td>0.078431</td>\n",
       "      <td>0.113725</td>\n",
       "      <td>0.156863</td>\n",
       "      <td>0.164706</td>\n",
       "      <td>...</td>\n",
       "      <td>0.737255</td>\n",
       "      <td>0.792157</td>\n",
       "      <td>0.819608</td>\n",
       "      <td>0.858824</td>\n",
       "      <td>0.835294</td>\n",
       "      <td>0.866667</td>\n",
       "      <td>0.839216</td>\n",
       "      <td>0.639216</td>\n",
       "      <td>0.533333</td>\n",
       "      <td>female</td>\n",
       "    </tr>\n",
       "  </tbody>\n",
       "</table>\n",
       "<p>5 rows × 10001 columns</p>\n",
       "</div>"
      ],
      "text/plain": [
       "   pixels_0  pixels_1  pixels_2  pixels_3  pixels_4  pixels_5  pixels_6  \\\n",
       "0  0.211765  0.235294  0.211765  0.227451  0.231373  0.211765  0.215686   \n",
       "1  0.125490  0.090196  0.121569  0.105882  0.109804  0.117647  0.109804   \n",
       "2  0.066667  0.066667  0.074510  0.086275  0.074510  0.078431  0.098039   \n",
       "3  0.090196  0.109804  0.125490  0.117647  0.094118  0.082353  0.086275   \n",
       "4  0.047059  0.043137  0.050980  0.054902  0.062745  0.090196  0.078431   \n",
       "\n",
       "   pixels_7  pixels_8  pixels_9  ...  pixels_9991  pixels_9992  pixels_9993  \\\n",
       "0  0.235294  0.215686  0.176471  ...     0.109804     0.129412     0.156863   \n",
       "1  0.129412  0.141176  0.117647  ...     0.184314     0.105882     0.133333   \n",
       "2  0.086275  0.101961  0.113725  ...     0.756863     0.760784     0.764706   \n",
       "3  0.098039  0.109804  0.109804  ...     0.054902     0.070588     0.050980   \n",
       "4  0.113725  0.156863  0.164706  ...     0.737255     0.792157     0.819608   \n",
       "\n",
       "   pixels_9994  pixels_9995  pixels_9996  pixels_9997  pixels_9998  \\\n",
       "0     0.192157     0.227451     0.203922     0.168627     0.156863   \n",
       "1     0.086275     0.105882     0.090196     0.145098     0.247059   \n",
       "2     0.764706     0.764706     0.756863     0.760784     0.760784   \n",
       "3     0.003922     0.011765     0.078431     0.121569     0.125490   \n",
       "4     0.858824     0.835294     0.866667     0.839216     0.639216   \n",
       "\n",
       "   pixels_9999  gender  \n",
       "0     0.137255  female  \n",
       "1     0.070588  female  \n",
       "2     0.764706  female  \n",
       "3     0.090196  female  \n",
       "4     0.533333  female  \n",
       "\n",
       "[5 rows x 10001 columns]"
      ]
     },
     "execution_count": 76,
     "metadata": {},
     "output_type": "execute_result"
    }
   ],
   "source": [
    "data['gender']=df_filter['gender']\n",
    "data.head()"
   ]
  },
  {
   "cell_type": "code",
   "execution_count": 77,
   "metadata": {},
   "outputs": [
    {
     "data": {
      "text/plain": [
       "pixels_0       0\n",
       "pixels_1       0\n",
       "pixels_2       0\n",
       "pixels_3       0\n",
       "pixels_4       0\n",
       "              ..\n",
       "pixels_9996    0\n",
       "pixels_9997    0\n",
       "pixels_9998    0\n",
       "pixels_9999    0\n",
       "gender         0\n",
       "Length: 10001, dtype: int64"
      ]
     },
     "execution_count": 77,
     "metadata": {},
     "output_type": "execute_result"
    }
   ],
   "source": [
    "data.isnull().sum()"
   ]
  },
  {
   "cell_type": "code",
   "execution_count": 78,
   "metadata": {},
   "outputs": [],
   "source": [
    "# re,pve tje ,ssomg va;ies\n",
    "data.dropna(inplace=True)"
   ]
  },
  {
   "cell_type": "code",
   "execution_count": 79,
   "metadata": {},
   "outputs": [
    {
     "data": {
      "text/plain": [
       "(4308, 10001)"
      ]
     },
     "execution_count": 79,
     "metadata": {},
     "output_type": "execute_result"
    }
   ],
   "source": [
    "data.shape"
   ]
  },
  {
   "cell_type": "markdown",
   "metadata": {},
   "source": []
  },
  {
   "cell_type": "code",
   "execution_count": 83,
   "metadata": {},
   "outputs": [
    {
     "ename": "",
     "evalue": "",
     "output_type": "error",
     "traceback": [
      "\u001b[1;31mThe Kernel crashed while executing code in the current cell or a previous cell. \n",
      "\u001b[1;31mPlease review the code in the cell(s) to identify a possible cause of the failure. \n",
      "\u001b[1;31mClick <a href='https://aka.ms/vscodeJupyterKernelCrash'>here</a> for more info. \n",
      "\u001b[1;31mView Jupyter <a href='command:jupyter.viewOutput'>log</a> for further details."
     ]
    }
   ],
   "source": [
    "# save the data fro future use\n",
    "import pickle\n",
    "pickle.dump(data,open('./data/data_images_100_100.pickle',mode='wb')) "
   ]
  },
  {
   "cell_type": "code",
   "execution_count": null,
   "metadata": {},
   "outputs": [],
   "source": [
    "# Feature Extraction with eigen face\n"
   ]
  }
 ],
 "metadata": {
  "kernelspec": {
   "display_name": "facerec",
   "language": "python",
   "name": "python3"
  },
  "language_info": {
   "codemirror_mode": {
    "name": "ipython",
    "version": 3
   },
   "file_extension": ".py",
   "mimetype": "text/x-python",
   "name": "python",
   "nbconvert_exporter": "python",
   "pygments_lexer": "ipython3",
   "version": "3.12.0"
  }
 },
 "nbformat": 4,
 "nbformat_minor": 2
}
